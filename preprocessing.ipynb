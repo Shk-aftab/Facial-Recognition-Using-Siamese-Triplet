{
 "cells": [
  {
   "cell_type": "code",
   "execution_count": 1,
   "metadata": {},
   "outputs": [],
   "source": [
    "import os\n",
    "from mtcnn import MTCNN\n",
    "from skimage import io\n",
    "import cv2\n",
    "import matplotlib.pyplot as plt\n",
    "from keras_preprocessing.image import load_img, img_to_array\n"
   ]
  },
  {
   "cell_type": "code",
   "execution_count": 2,
   "metadata": {},
   "outputs": [],
   "source": [
    "detector = MTCNN()"
   ]
  },
  {
   "cell_type": "code",
   "execution_count": 60,
   "metadata": {},
   "outputs": [],
   "source": [
    "path = 'E:\\\\hackathon\\\\trainset\\\\train'"
   ]
  },
  {
   "cell_type": "code",
   "execution_count": 5,
   "metadata": {},
   "outputs": [],
   "source": [
    "def extract_faces(face):\n",
    "    x1,y1,width,height = face['box']\n",
    "    x2, y2 = x1 + width, y1 + height\n",
    "    return image[y1:y2, x1:x2]"
   ]
  },
  {
   "cell_type": "code",
   "execution_count": 58,
   "metadata": {},
   "outputs": [],
   "source": [
    "#cleaning the data(if there is more than one person in an image i need to delete that image as there is no class\n",
    "#present for person in the background)\n",
    "\n",
    "import os\n",
    "for root, dirs, files in os.walk(path):\n",
    "    deleted = 0\n",
    "    notdeleted = 0\n",
    "    for img_path in files:\n",
    "        if img_path.endswith(\".jpg\"):\n",
    "            #print(os.path.join(root, img_path))\n",
    "            img_abs_path = os.path.abspath(os.path.join(root, img_path))\n",
    "            print(img_abs_path)\n",
    "        try:\n",
    "            image = io.imread(img_abs_path)\n",
    "            try:\n",
    "                faces = detector.detect_faces(image)\n",
    "                try:\n",
    "                    if faces[1] != None:\n",
    "                        os.remove(img_abs_path)\n",
    "                        delete+=1\n",
    "                except:\n",
    "                    notdeleted+=1\n",
    "            except:\n",
    "                print('error')\n",
    "        except:\n",
    "            print('error')\n",
    "print('deleted',deleted)\n",
    "print('notdeleted',notdeleted)"
   ]
  },
  {
   "cell_type": "code",
   "execution_count": 75,
   "metadata": {
    "scrolled": true
   },
   "outputs": [],
   "source": [
    "#preparing dataset for training by extractng the faces and saving that image inplace of previous image, it will help me \n",
    "# in overloading while traning the network.\n",
    "\n",
    "import os\n",
    "for root, dirs, files in os.walk(path):\n",
    "    for img_path in files:\n",
    "        if img_path.endswith(\".jpg\"):\n",
    "            img_abs_path = os.path.abspath(os.path.join(root, img_path))\n",
    "            try:\n",
    "                image = io.imread(img_abs_path)\n",
    "                try:\n",
    "                    faces = detector.detect_faces(image)\n",
    "                    for f in faces:\n",
    "                        extracted_faces = extract_faces(f)\n",
    "                        io.imsave(img_abs_path,extracted_faces)\n",
    "                        print('done')\n",
    "                except:\n",
    "                    print(img_abs_path)\n",
    "                    print('detecting error')\n",
    "            except:\n",
    "                print('image reading error')\n",
    "\n"
   ]
  },
  {
   "cell_type": "code",
   "execution_count": 77,
   "metadata": {},
   "outputs": [],
   "source": [
    "# and also I don't want just one image for every class, atleast I need 2 so I just made a copy of one image for every\n",
    "#class\n",
    "for root, dirs, files in os.walk(path):\n",
    "    for img_path in files:\n",
    "        if img_path.endswith(\".jpg\"):\n",
    "            img_abs_path = os.path.abspath(os.path.join(root, img_path))\n",
    "            (head, tail) = os.path.split(img_abs_path)\n",
    "            filename = head + '\\\\' + 'copy.jpg'\n",
    "            image = cv2.imread(img_abs_path)\n",
    "            cv2.imwrite(filename, image) \n",
    "        "
   ]
  },
  {
   "cell_type": "code",
   "execution_count": null,
   "metadata": {},
   "outputs": [],
   "source": []
  }
 ],
 "metadata": {
  "kernelspec": {
   "display_name": "Python 3",
   "language": "python",
   "name": "python3"
  },
  "language_info": {
   "codemirror_mode": {
    "name": "ipython",
    "version": 3
   },
   "file_extension": ".py",
   "mimetype": "text/x-python",
   "name": "python",
   "nbconvert_exporter": "python",
   "pygments_lexer": "ipython3",
   "version": "3.7.0"
  }
 },
 "nbformat": 4,
 "nbformat_minor": 4
}
